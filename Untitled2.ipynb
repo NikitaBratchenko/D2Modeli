{
  "nbformat": 4,
  "nbformat_minor": 0,
  "metadata": {
    "colab": {
      "provenance": [],
      "authorship_tag": "ABX9TyMFTRAJbdmKMQxjzmQoaliN",
      "include_colab_link": true
    },
    "kernelspec": {
      "name": "python3",
      "display_name": "Python 3"
    },
    "language_info": {
      "name": "python"
    }
  },
  "cells": [
    {
      "cell_type": "markdown",
      "metadata": {
        "id": "view-in-github",
        "colab_type": "text"
      },
      "source": [
        "<a href=\"https://colab.research.google.com/github/NikitaBratchenko/D2Modeli/blob/main/Untitled2.ipynb\" target=\"_parent\"><img src=\"https://colab.research.google.com/assets/colab-badge.svg\" alt=\"Open In Colab\"/></a>"
      ]
    },
    {
      "cell_type": "code",
      "execution_count": null,
      "metadata": {
        "id": "cD74u-6Srgux"
      },
      "outputs": [],
      "source": [
        "from google.colab import files\n",
        "uploaded = files.upload()\n"
      ]
    },
    {
      "cell_type": "code",
      "source": [
        "uploaded"
      ],
      "metadata": {
        "id": "bbvE7Lx2sOLR"
      },
      "execution_count": null,
      "outputs": []
    },
    {
      "cell_type": "code",
      "source": [
        "import os\n",
        "for dirpath, _, filenames in os.walk('/content/'):\n",
        "\n",
        "  for filename in filenames:\n",
        "    print(os.path.join(dirpath, filename))"
      ],
      "metadata": {
        "id": "CjxIW3YYsWz8"
      },
      "execution_count": null,
      "outputs": []
    },
    {
      "cell_type": "code",
      "source": [
        "!ls /content/sample_data/"
      ],
      "metadata": {
        "id": "t_ZiHr65sjZo"
      },
      "execution_count": null,
      "outputs": []
    },
    {
      "cell_type": "code",
      "source": [
        "type(uploaded['test.csv'])"
      ],
      "metadata": {
        "id": "zAahmjHesxEG"
      },
      "execution_count": null,
      "outputs": []
    },
    {
      "cell_type": "code",
      "source": [
        "uploaded_str = uploaded['test.csv'].decode()\n",
        "print(type(uploaded_str))\n",
        "print(uploaded_str[:35])"
      ],
      "metadata": {
        "id": "2ady8Y_1trf9"
      },
      "execution_count": null,
      "outputs": []
    },
    {
      "cell_type": "code",
      "source": [
        "uploaded_list = uploaded_str.split('\\r\\n')\n",
        "type(uploaded_list)"
      ],
      "metadata": {
        "id": "e-Sh_MSZuMV0"
      },
      "execution_count": null,
      "outputs": []
    },
    {
      "cell_type": "code",
      "source": [
        "for i, line in enumerate(uploaded_list):\n",
        "  print(line)\n",
        "# когда дойдем до четвертой строки\n",
        "  if i == 3:\n",
        "# прервемся\n",
        "    break\n"
      ],
      "metadata": {
        "id": "8HpXUns3uSRw"
      },
      "execution_count": null,
      "outputs": []
    },
    {
      "cell_type": "code",
      "source": [
        "f1 = open('/content/train.csv', 'r')\n",
        "print(f1.read(142))\n",
        "f1.close()"
      ],
      "metadata": {
        "id": "prhFa52DubjN"
      },
      "execution_count": null,
      "outputs": []
    },
    {
      "cell_type": "code",
      "source": [
        "f2 = open('/content/train.csv', 'r')\n",
        "for i, line in enumerate(f2):\n",
        "  print(line.strip())\n",
        "  if i == 3:\n",
        "    break\n",
        "f2.close()"
      ],
      "metadata": {
        "id": "Hw2hehb1u4gq"
      },
      "execution_count": null,
      "outputs": []
    },
    {
      "cell_type": "code",
      "source": [
        "with open('/content/test.csv', 'r') as f3:\n",
        "  for i, line in enumerate(f3):\n",
        "    print(line.strip())\n",
        "    if i == 3:\n",
        "      break"
      ],
      "metadata": {
        "id": "EW0pX8G0vXba"
      },
      "execution_count": null,
      "outputs": []
    },
    {
      "cell_type": "code",
      "source": [
        "import pandas as pd\n",
        "train = pd.read_csv('/content/train.csv')\n",
        "train.head(3)"
      ],
      "metadata": {
        "id": "mYeXFvBIvohr"
      },
      "execution_count": null,
      "outputs": []
    },
    {
      "cell_type": "code",
      "source": [
        "test = pd.read_csv('/content/test.csv')\n",
        "test.head(3)\n"
      ],
      "metadata": {
        "id": "k2dxoOW4wADe"
      },
      "execution_count": null,
      "outputs": []
    },
    {
      "cell_type": "code",
      "source": [
        "train.info()"
      ],
      "metadata": {
        "id": "JXE5uA22wd8b"
      },
      "execution_count": null,
      "outputs": []
    },
    {
      "cell_type": "code",
      "source": [
        "import seaborn as sns\n",
        "sns.countplot(x = 'Pclass', hue = 'Survived', data =\n",
        "train)"
      ],
      "metadata": {
        "id": "6Ngir7XYwwA0"
      },
      "execution_count": null,
      "outputs": []
    },
    {
      "cell_type": "code",
      "source": [
        "sns.countplot(x = 'Sex', hue = 'Survived', data =\n",
        "train)\n"
      ],
      "metadata": {
        "id": "CqSjaD4lxLyR"
      },
      "execution_count": null,
      "outputs": []
    },
    {
      "cell_type": "code",
      "source": [
        "train.isnull().sum()"
      ],
      "metadata": {
        "id": "Gi1NUa5QxbwJ"
      },
      "execution_count": null,
      "outputs": []
    },
    {
      "cell_type": "code",
      "source": [
        "# train.drop(columns = 'Cabin', axis = 1, inplace =\n",
        "# True)\n",
        "train['Age'].fillna(train['Age'].mean(), inplace =\n",
        "True)\n"
      ],
      "metadata": {
        "id": "YdW3r0SfxkIP"
      },
      "execution_count": null,
      "outputs": []
    },
    {
      "cell_type": "code",
      "source": [
        "train.dropna(inplace = True)"
      ],
      "metadata": {
        "id": "1mpHfkOsxwa2"
      },
      "execution_count": 40,
      "outputs": []
    },
    {
      "cell_type": "code",
      "source": [
        "train.isnull().sum()"
      ],
      "metadata": {
        "id": "U5y9VHpgx8mY"
      },
      "execution_count": null,
      "outputs": []
    },
    {
      "cell_type": "code",
      "source": [
        "pd.get_dummies(train['Sex']).head(3)\n"
      ],
      "metadata": {
        "id": "xQKwfUG3yR4-"
      },
      "execution_count": null,
      "outputs": []
    },
    {
      "cell_type": "code",
      "source": [
        "sex = pd.get_dummies(train['Sex'], drop_first = True)\n",
        "sex.head(3)"
      ],
      "metadata": {
        "id": "M3Gp7HUiyuvN"
      },
      "execution_count": null,
      "outputs": []
    },
    {
      "cell_type": "code",
      "source": [
        "embarked = pd.get_dummies(train['Embarked'],\n",
        "drop_first = True)\n",
        "pclass = pd.get_dummies(train['Pclass'], drop_first =\n",
        "True)"
      ],
      "metadata": {
        "id": "RKOd_qaey7Y-"
      },
      "execution_count": 45,
      "outputs": []
    },
    {
      "cell_type": "code",
      "source": [
        "train = pd.concat([train, pclass, sex, embarked],\n",
        "axis = 1)"
      ],
      "metadata": {
        "id": "mq3Y9w-SzDnc"
      },
      "execution_count": 46,
      "outputs": []
    },
    {
      "cell_type": "code",
      "source": [
        "train.drop(['PassengerId', 'Pclass', 'Name', 'Sex',\n",
        "'Ticket', 'Embarked'], axis = 1, inplace = True)\n",
        "train.head(3)\n"
      ],
      "metadata": {
        "id": "tzEGzNbMzNWr"
      },
      "execution_count": null,
      "outputs": []
    },
    {
      "cell_type": "code",
      "source": [
        "from sklearn.preprocessing import StandardScaler\n",
        "scaler = StandardScaler()\n",
        "cols_to_scale = ['Age', 'Fare']\n",
        "scaler.fit(train[cols_to_scale])"
      ],
      "metadata": {
        "id": "KLCDTII3znfu"
      },
      "execution_count": null,
      "outputs": []
    }
  ]
}